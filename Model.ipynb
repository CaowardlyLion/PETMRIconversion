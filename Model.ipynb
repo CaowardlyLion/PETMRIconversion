{
 "cells": [
  {
   "cell_type": "code",
   "execution_count": 1,
   "id": "8ca6359e-15fe-4914-9b73-36071dd03e79",
   "metadata": {},
   "outputs": [],
   "source": [
    "import tensorflow as tf\n",
    "import tensorflow.keras as keras\n",
    "import numpy as np\n",
    "import pandas as pd\n",
    "import nibabel as nib\n",
    "import os\n",
    "from tensorflow.keras import Input, Sequential, Model\n",
    "from tensorflow.keras.layers import Dense, Conv3D, MaxPooling3D, BatchNormalization, Dropout, concatenate, Flatten\n",
    "from sklearn.model_selection import train_test_split\n",
    "from pathlib import Path\n",
    "from DataGenerator import DataGenerator\n",
    "from tensorflow.keras.callbacks import ModelCheckpoint"
   ]
  },
  {
   "cell_type": "code",
   "execution_count": null,
   "id": "c9517b34-ed1d-4d28-a0b8-57c7822f7ca3",
   "metadata": {},
   "outputs": [],
   "source": []
  },
  {
   "cell_type": "code",
   "execution_count": null,
   "id": "7da2e6d5-bae0-4bfd-8611-dfa63788169f",
   "metadata": {
    "tags": []
   },
   "outputs": [],
   "source": []
  },
  {
   "cell_type": "code",
   "execution_count": 2,
   "id": "2c9010da-6ddc-4b88-864d-4a4af85e574c",
   "metadata": {},
   "outputs": [],
   "source": [
    "petinput = Input(shape = (182, 218, 182, 1))\n",
    "mriinput = Input(shape = (182, 218, 182, 1))"
   ]
  },
  {
   "cell_type": "code",
   "execution_count": 3,
   "id": "dc0b2ddb-c174-4792-9f79-7eec2009c79b",
   "metadata": {},
   "outputs": [],
   "source": [
    "x = Conv3D(16, kernel_size = 3, activation = \"relu\", kernel_initializer='he_uniform', input_shape = (182, 218, 182, 1))(petinput)\n",
    "x = MaxPooling3D(pool_size = (2,2,2))(x)\n",
    "x = BatchNormalization(center=True, scale=True)(x)\n",
    "x = Dropout(0.5)(x)\n",
    "x = Conv3D(32, kernel_size=(3, 3, 3), activation='relu', kernel_initializer='he_uniform')(x)\n",
    "x = MaxPooling3D(pool_size=(2, 2, 2))(x)\n",
    "x = BatchNormalization(center=True, scale=True)(x)\n",
    "x = Dropout(0.5)(x)\n",
    "x = Model(inputs = petinput, outputs = x)\n",
    "\n",
    "y = Conv3D(16, kernel_size = 3, activation = \"relu\", kernel_initializer='he_uniform', input_shape = (182, 218, 182, 1))(mriinput)\n",
    "y = MaxPooling3D(pool_size = (2,2,2))(y)\n",
    "y = BatchNormalization(center=True, scale=True)(y)\n",
    "y = Dropout(0.5)(y)\n",
    "y = Conv3D(32, kernel_size=(3, 3, 3), activation='relu', kernel_initializer='he_uniform')(y)\n",
    "y = MaxPooling3D(pool_size=(2, 2, 2))(y)\n",
    "y = BatchNormalization(center=True, scale=True)(y)\n",
    "y = Dropout(0.5)(y)\n",
    "y = Model(inputs = mriinput, outputs = y)\n",
    "\n",
    "end = concatenate([x.output, y.output])\n",
    "z = Flatten()(end)\n",
    "z = Dense(32, activation='relu', kernel_initializer='he_uniform')(z)\n",
    "z = Dense(32, activation='relu', kernel_initializer='he_uniform')(z)\n",
    "z = Dense(10, activation='relu')(z)\n",
    "z = Dense(1, activation = \"sigmoid\")(z)\n",
    "model = Model(inputs=[x.input, y.input], outputs=z)"
   ]
  },
  {
   "cell_type": "markdown",
   "id": "755dc658-f71d-4237-8e5b-ee5acfdb8c30",
   "metadata": {},
   "source": [
    "model.summary"
   ]
  },
  {
   "cell_type": "code",
   "execution_count": 4,
   "id": "8b3320f1-b518-4725-b508-347e6e48ff9b",
   "metadata": {},
   "outputs": [
    {
     "name": "stdout",
     "output_type": "stream",
     "text": [
      "Model: \"model_2\"\n",
      "__________________________________________________________________________________________________\n",
      "Layer (type)                    Output Shape         Param #     Connected to                     \n",
      "==================================================================================================\n",
      "input_1 (InputLayer)            [(None, 182, 218, 18 0                                            \n",
      "__________________________________________________________________________________________________\n",
      "input_2 (InputLayer)            [(None, 182, 218, 18 0                                            \n",
      "__________________________________________________________________________________________________\n",
      "conv3d (Conv3D)                 (None, 180, 216, 180 448         input_1[0][0]                    \n",
      "__________________________________________________________________________________________________\n",
      "conv3d_2 (Conv3D)               (None, 180, 216, 180 448         input_2[0][0]                    \n",
      "__________________________________________________________________________________________________\n",
      "max_pooling3d (MaxPooling3D)    (None, 90, 108, 90,  0           conv3d[0][0]                     \n",
      "__________________________________________________________________________________________________\n",
      "max_pooling3d_2 (MaxPooling3D)  (None, 90, 108, 90,  0           conv3d_2[0][0]                   \n",
      "__________________________________________________________________________________________________\n",
      "batch_normalization (BatchNorma (None, 90, 108, 90,  64          max_pooling3d[0][0]              \n",
      "__________________________________________________________________________________________________\n",
      "batch_normalization_2 (BatchNor (None, 90, 108, 90,  64          max_pooling3d_2[0][0]            \n",
      "__________________________________________________________________________________________________\n",
      "dropout (Dropout)               (None, 90, 108, 90,  0           batch_normalization[0][0]        \n",
      "__________________________________________________________________________________________________\n",
      "dropout_2 (Dropout)             (None, 90, 108, 90,  0           batch_normalization_2[0][0]      \n",
      "__________________________________________________________________________________________________\n",
      "conv3d_1 (Conv3D)               (None, 88, 106, 88,  13856       dropout[0][0]                    \n",
      "__________________________________________________________________________________________________\n",
      "conv3d_3 (Conv3D)               (None, 88, 106, 88,  13856       dropout_2[0][0]                  \n",
      "__________________________________________________________________________________________________\n",
      "max_pooling3d_1 (MaxPooling3D)  (None, 44, 53, 44, 3 0           conv3d_1[0][0]                   \n",
      "__________________________________________________________________________________________________\n",
      "max_pooling3d_3 (MaxPooling3D)  (None, 44, 53, 44, 3 0           conv3d_3[0][0]                   \n",
      "__________________________________________________________________________________________________\n",
      "batch_normalization_1 (BatchNor (None, 44, 53, 44, 3 128         max_pooling3d_1[0][0]            \n",
      "__________________________________________________________________________________________________\n",
      "batch_normalization_3 (BatchNor (None, 44, 53, 44, 3 128         max_pooling3d_3[0][0]            \n",
      "__________________________________________________________________________________________________\n",
      "dropout_1 (Dropout)             (None, 44, 53, 44, 3 0           batch_normalization_1[0][0]      \n",
      "__________________________________________________________________________________________________\n",
      "dropout_3 (Dropout)             (None, 44, 53, 44, 3 0           batch_normalization_3[0][0]      \n",
      "__________________________________________________________________________________________________\n",
      "concatenate (Concatenate)       (None, 44, 53, 44, 6 0           dropout_1[0][0]                  \n",
      "                                                                 dropout_3[0][0]                  \n",
      "__________________________________________________________________________________________________\n",
      "flatten (Flatten)               (None, 6566912)      0           concatenate[0][0]                \n",
      "__________________________________________________________________________________________________\n",
      "dense (Dense)                   (None, 32)           210141216   flatten[0][0]                    \n",
      "__________________________________________________________________________________________________\n",
      "dense_1 (Dense)                 (None, 32)           1056        dense[0][0]                      \n",
      "__________________________________________________________________________________________________\n",
      "dense_2 (Dense)                 (None, 10)           330         dense_1[0][0]                    \n",
      "__________________________________________________________________________________________________\n",
      "dense_3 (Dense)                 (None, 1)            11          dense_2[0][0]                    \n",
      "==================================================================================================\n",
      "Total params: 210,171,605\n",
      "Trainable params: 210,171,413\n",
      "Non-trainable params: 192\n",
      "__________________________________________________________________________________________________\n"
     ]
    }
   ],
   "source": [
    "model.summary()"
   ]
  },
  {
   "cell_type": "code",
   "execution_count": 5,
   "id": "1b31f5b6-adec-458f-bc6d-090355fef94f",
   "metadata": {},
   "outputs": [],
   "source": [
    "alz = pd.read_csv(\"alzheimers.csv\").drop_duplicates()\n",
    "conv = pd.read_csv(\"converted.csv\").drop_duplicates()\n",
    "non = pd.read_csv(\"nonconverted.csv\").drop_duplicates()\n",
    "cont = pd.read_csv(\"control.csv\").drop_duplicates()"
   ]
  },
  {
   "cell_type": "code",
   "execution_count": 6,
   "id": "bd30f6fa-b90e-4d3e-93d7-fa0a9bce71bc",
   "metadata": {},
   "outputs": [
    {
     "name": "stdout",
     "output_type": "stream",
     "text": [
      "Subject ID    007_S_0316\n",
      "MRI_ID             36567\n",
      "PET_ID             26491\n",
      "Name: 18, dtype: object\n",
      "Subject ID    006_S_4449\n",
      "MRI_ID            412372\n",
      "PET_ID            282605\n",
      "Name: 12, dtype: object\n",
      "Subject ID    023_S_4020\n",
      "MRI_ID            233460\n",
      "PET_ID            242607\n",
      "Name: 75, dtype: object\n",
      "Subject ID    035_S_4082\n",
      "MRI_ID            296309\n",
      "PET_ID            248342\n",
      "Name: 94, dtype: object\n",
      "Subject ID    094_S_0489\n",
      "MRI_ID             47040\n",
      "PET_ID             27906\n",
      "Name: 138, dtype: object\n",
      "Subject ID    116_S_4483\n",
      "MRI_ID            281407\n",
      "PET_ID            287394\n",
      "Name: 156, dtype: object\n",
      "Subject ID    136_S_4269\n",
      "MRI_ID            265204\n",
      "PET_ID            274773\n",
      "Name: 172, dtype: object\n"
     ]
    }
   ],
   "source": [
    "\n",
    "for index, row in alz.iterrows():\n",
    "    if not Path(\"petregistered/\" + str(row[\"PET_ID\"]) + \"_registered.nii.gz\").exists():\n",
    "        print(row)\n",
    "        alz = alz.drop(index)\n",
    "\n",
    "\n",
    "for index, row in cont.iterrows():\n",
    "    if not Path(\"petregistered/\" + str(row[\"PET_ID\"]) + \"_registered.nii.gz\").exists():\n",
    "        print(row)\n",
    "        cont = cont.drop(index)\n",
    "        \n",
    "for index, row in alz.iterrows():\n",
    "    if not Path(\"registered/\" + str(row[\"MRI_ID\"]) + \"_registered.nii.gz\").exists():\n",
    "        print(row)\n",
    "        alz = alz.drop(index)\n",
    "\n",
    "\n",
    "for index, row in cont.iterrows():\n",
    "    if not Path(\"registered/\" + str(row[\"MRI_ID\"]) + \"_registered.nii.gz\").exists():\n",
    "        print(row)\n",
    "        cont = cont.drop(index)        \n",
    "\n",
    "posmarker = np.ones(len(alz))\n",
    "negmarker = np.zeros(len(cont))"
   ]
  },
  {
   "cell_type": "code",
   "execution_count": 7,
   "id": "abf5dab7-b1bb-4839-b5d1-5224844f0a2e",
   "metadata": {},
   "outputs": [],
   "source": [
    "alz[\"marker\"] = posmarker\n",
    "cont[\"marker\"] = negmarker\n",
    "subjects = alz.append(cont)\n",
    "ids = subjects[[\"PET_ID\", \"MRI_ID\"]]\n",
    "markers = subjects[\"marker\"]"
   ]
  },
  {
   "cell_type": "code",
   "execution_count": 18,
   "id": "4a8afcbc-bffc-4ef5-b206-3aee48522ad6",
   "metadata": {},
   "outputs": [],
   "source": [
    "ids_train, ids_val, markers_train, markers_val = train_test_split(ids, markers, random_state = 42, stratify = markers, test_size = .25)"
   ]
  },
  {
   "cell_type": "code",
   "execution_count": 9,
   "id": "ef80a24a-77d0-4ccd-b03a-e5d88118811d",
   "metadata": {},
   "outputs": [],
   "source": [
    "model.compile(optimizer=\"Adam\", loss=\"binary_crossentropy\", metrics=[\"mae\", \"acc\"])\n"
   ]
  },
  {
   "cell_type": "code",
   "execution_count": 10,
   "id": "b5b696d3-0a03-463b-b830-31bb91e5751f",
   "metadata": {},
   "outputs": [
    {
     "data": {
      "text/plain": [
       "1.0"
      ]
     },
     "execution_count": 10,
     "metadata": {},
     "output_type": "execute_result"
    }
   ],
   "source": [
    "markers_train.iloc[2]"
   ]
  },
  {
   "cell_type": "code",
   "execution_count": 23,
   "id": "44e44aa2-9d30-4773-b242-6877e5b0357f",
   "metadata": {},
   "outputs": [],
   "source": [
    "#train_dataset = tf.data.Dataset.from_tensor_slices((ids_train, markers_train)).map(grabfile)\n",
    "#val_dataset = tf.data.Dataset.from_tensor_slices((ids_val, markers_val))\n",
    "checkpoint_filepath = 'temp/checkpoint'\n",
    "model_checkpoint_callback = tf.keras.callbacks.ModelCheckpoint(\n",
    "    filepath=checkpoint_filepath,\n",
    "    save_weights_only=True,\n",
    "    save_freq = \"epoch\",\n",
    "    monitor='val_accuracy',\n",
    "    mode='max',\n",
    "    save_best_only=True)"
   ]
  },
  {
   "cell_type": "code",
   "execution_count": 24,
   "id": "50e02318-54c9-42c9-9084-37f58f1fe3b0",
   "metadata": {},
   "outputs": [],
   "source": [
    "batch_size = 2\n",
    "train_generator = DataGenerator(ids_train, markers_train, batch_size = batch_size)\n",
    "val_generator = DataGenerator(ids_val, markers_val, batch_size = batch_size)"
   ]
  },
  {
   "cell_type": "code",
   "execution_count": 25,
   "id": "2f18ee81-42f4-4b5f-a51a-a7e0a64f8f1e",
   "metadata": {},
   "outputs": [
    {
     "name": "stdout",
     "output_type": "stream",
     "text": [
      "Epoch 1/5\n",
      "125/125 [==============================] - 3722s 30s/step - loss: 1.7040 - mae: 0.2501 - acc: 0.7560 - val_loss: 0.6933 - val_mae: 0.5000 - val_acc: 0.5000\n",
      "WARNING:tensorflow:Can save best model only with val_accuracy available, skipping.\n",
      "Epoch 2/5\n",
      "125/125 [==============================] - 3728s 30s/step - loss: 0.7288 - mae: 0.4979 - acc: 0.5080 - val_loss: 0.6933 - val_mae: 0.5000 - val_acc: 0.5000\n",
      "WARNING:tensorflow:Can save best model only with val_accuracy available, skipping.\n",
      "Epoch 3/5\n",
      "125/125 [==============================] - 3710s 30s/step - loss: 0.6877 - mae: 0.4961 - acc: 0.5160 - val_loss: 0.6933 - val_mae: 0.5000 - val_acc: 0.5000\n",
      "WARNING:tensorflow:Can save best model only with val_accuracy available, skipping.\n"
     ]
    },
    {
     "name": "stderr",
     "output_type": "stream",
     "text": [
      "Exception ignored in: <bound method IteratorResourceDeleter.__del__ of <tensorflow.python.data.ops.iterator_ops.IteratorResourceDeleter object at 0x7f4e4c540948>>\n",
      "Traceback (most recent call last):\n",
      "  File \"/usr/local/lib/python3.6/dist-packages/tensorflow/python/data/ops/iterator_ops.py\", line 546, in __del__\n",
      "    handle=self._handle, deleter=self._deleter)\n",
      "  File \"/usr/local/lib/python3.6/dist-packages/tensorflow/python/ops/gen_dataset_ops.py\", line 1264, in delete_iterator\n",
      "    _ctx, \"DeleteIterator\", name, handle, deleter)\n",
      "KeyboardInterrupt: \n"
     ]
    },
    {
     "name": "stdout",
     "output_type": "stream",
     "text": [
      "Epoch 4/5\n",
      "  1/125 [..............................] - ETA: 1:00:05 - loss: 0.6756 - mae: 0.4912 - acc: 1.0000"
     ]
    },
    {
     "ename": "KeyboardInterrupt",
     "evalue": "",
     "output_type": "error",
     "traceback": [
      "\u001b[0;31m---------------------------------------------------------------------------\u001b[0m",
      "\u001b[0;31mKeyboardInterrupt\u001b[0m                         Traceback (most recent call last)",
      "\u001b[0;32m<ipython-input-25-d9f224b18c86>\u001b[0m in \u001b[0;36m<module>\u001b[0;34m\u001b[0m\n\u001b[0;32m----> 1\u001b[0;31m \u001b[0mmodel\u001b[0m\u001b[0;34m.\u001b[0m\u001b[0mfit\u001b[0m\u001b[0;34m(\u001b[0m\u001b[0mtrain_generator\u001b[0m\u001b[0;34m,\u001b[0m \u001b[0mvalidation_data\u001b[0m \u001b[0;34m=\u001b[0m \u001b[0mval_generator\u001b[0m\u001b[0;34m,\u001b[0m \u001b[0mcallbacks\u001b[0m\u001b[0;34m=\u001b[0m\u001b[0;34m[\u001b[0m\u001b[0mmodel_checkpoint_callback\u001b[0m\u001b[0;34m]\u001b[0m\u001b[0;34m,\u001b[0m \u001b[0mepochs\u001b[0m \u001b[0;34m=\u001b[0m \u001b[0;36m5\u001b[0m\u001b[0;34m)\u001b[0m\u001b[0;34m\u001b[0m\u001b[0;34m\u001b[0m\u001b[0m\n\u001b[0m",
      "\u001b[0;32m/usr/local/lib/python3.6/dist-packages/tensorflow/python/keras/engine/training.py\u001b[0m in \u001b[0;36mfit\u001b[0;34m(self, x, y, batch_size, epochs, verbose, callbacks, validation_split, validation_data, shuffle, class_weight, sample_weight, initial_epoch, steps_per_epoch, validation_steps, validation_batch_size, validation_freq, max_queue_size, workers, use_multiprocessing)\u001b[0m\n\u001b[1;32m   1181\u001b[0m                 _r=1):\n\u001b[1;32m   1182\u001b[0m               \u001b[0mcallbacks\u001b[0m\u001b[0;34m.\u001b[0m\u001b[0mon_train_batch_begin\u001b[0m\u001b[0;34m(\u001b[0m\u001b[0mstep\u001b[0m\u001b[0;34m)\u001b[0m\u001b[0;34m\u001b[0m\u001b[0;34m\u001b[0m\u001b[0m\n\u001b[0;32m-> 1183\u001b[0;31m               \u001b[0mtmp_logs\u001b[0m \u001b[0;34m=\u001b[0m \u001b[0mself\u001b[0m\u001b[0;34m.\u001b[0m\u001b[0mtrain_function\u001b[0m\u001b[0;34m(\u001b[0m\u001b[0miterator\u001b[0m\u001b[0;34m)\u001b[0m\u001b[0;34m\u001b[0m\u001b[0;34m\u001b[0m\u001b[0m\n\u001b[0m\u001b[1;32m   1184\u001b[0m               \u001b[0;32mif\u001b[0m \u001b[0mdata_handler\u001b[0m\u001b[0;34m.\u001b[0m\u001b[0mshould_sync\u001b[0m\u001b[0;34m:\u001b[0m\u001b[0;34m\u001b[0m\u001b[0;34m\u001b[0m\u001b[0m\n\u001b[1;32m   1185\u001b[0m                 \u001b[0mcontext\u001b[0m\u001b[0;34m.\u001b[0m\u001b[0masync_wait\u001b[0m\u001b[0;34m(\u001b[0m\u001b[0;34m)\u001b[0m\u001b[0;34m\u001b[0m\u001b[0;34m\u001b[0m\u001b[0m\n",
      "\u001b[0;32m/usr/local/lib/python3.6/dist-packages/tensorflow/python/eager/def_function.py\u001b[0m in \u001b[0;36m__call__\u001b[0;34m(self, *args, **kwds)\u001b[0m\n\u001b[1;32m    887\u001b[0m \u001b[0;34m\u001b[0m\u001b[0m\n\u001b[1;32m    888\u001b[0m       \u001b[0;32mwith\u001b[0m \u001b[0mOptionalXlaContext\u001b[0m\u001b[0;34m(\u001b[0m\u001b[0mself\u001b[0m\u001b[0;34m.\u001b[0m\u001b[0m_jit_compile\u001b[0m\u001b[0;34m)\u001b[0m\u001b[0;34m:\u001b[0m\u001b[0;34m\u001b[0m\u001b[0;34m\u001b[0m\u001b[0m\n\u001b[0;32m--> 889\u001b[0;31m         \u001b[0mresult\u001b[0m \u001b[0;34m=\u001b[0m \u001b[0mself\u001b[0m\u001b[0;34m.\u001b[0m\u001b[0m_call\u001b[0m\u001b[0;34m(\u001b[0m\u001b[0;34m*\u001b[0m\u001b[0margs\u001b[0m\u001b[0;34m,\u001b[0m \u001b[0;34m**\u001b[0m\u001b[0mkwds\u001b[0m\u001b[0;34m)\u001b[0m\u001b[0;34m\u001b[0m\u001b[0;34m\u001b[0m\u001b[0m\n\u001b[0m\u001b[1;32m    890\u001b[0m \u001b[0;34m\u001b[0m\u001b[0m\n\u001b[1;32m    891\u001b[0m       \u001b[0mnew_tracing_count\u001b[0m \u001b[0;34m=\u001b[0m \u001b[0mself\u001b[0m\u001b[0;34m.\u001b[0m\u001b[0mexperimental_get_tracing_count\u001b[0m\u001b[0;34m(\u001b[0m\u001b[0;34m)\u001b[0m\u001b[0;34m\u001b[0m\u001b[0;34m\u001b[0m\u001b[0m\n",
      "\u001b[0;32m/usr/local/lib/python3.6/dist-packages/tensorflow/python/eager/def_function.py\u001b[0m in \u001b[0;36m_call\u001b[0;34m(self, *args, **kwds)\u001b[0m\n\u001b[1;32m    915\u001b[0m       \u001b[0;31m# In this case we have created variables on the first call, so we run the\u001b[0m\u001b[0;34m\u001b[0m\u001b[0;34m\u001b[0m\u001b[0;34m\u001b[0m\u001b[0m\n\u001b[1;32m    916\u001b[0m       \u001b[0;31m# defunned version which is guaranteed to never create variables.\u001b[0m\u001b[0;34m\u001b[0m\u001b[0;34m\u001b[0m\u001b[0;34m\u001b[0m\u001b[0m\n\u001b[0;32m--> 917\u001b[0;31m       \u001b[0;32mreturn\u001b[0m \u001b[0mself\u001b[0m\u001b[0;34m.\u001b[0m\u001b[0m_stateless_fn\u001b[0m\u001b[0;34m(\u001b[0m\u001b[0;34m*\u001b[0m\u001b[0margs\u001b[0m\u001b[0;34m,\u001b[0m \u001b[0;34m**\u001b[0m\u001b[0mkwds\u001b[0m\u001b[0;34m)\u001b[0m  \u001b[0;31m# pylint: disable=not-callable\u001b[0m\u001b[0;34m\u001b[0m\u001b[0;34m\u001b[0m\u001b[0m\n\u001b[0m\u001b[1;32m    918\u001b[0m     \u001b[0;32melif\u001b[0m \u001b[0mself\u001b[0m\u001b[0;34m.\u001b[0m\u001b[0m_stateful_fn\u001b[0m \u001b[0;32mis\u001b[0m \u001b[0;32mnot\u001b[0m \u001b[0;32mNone\u001b[0m\u001b[0;34m:\u001b[0m\u001b[0;34m\u001b[0m\u001b[0;34m\u001b[0m\u001b[0m\n\u001b[1;32m    919\u001b[0m       \u001b[0;31m# Release the lock early so that multiple threads can perform the call\u001b[0m\u001b[0;34m\u001b[0m\u001b[0;34m\u001b[0m\u001b[0;34m\u001b[0m\u001b[0m\n",
      "\u001b[0;32m/usr/local/lib/python3.6/dist-packages/tensorflow/python/eager/function.py\u001b[0m in \u001b[0;36m__call__\u001b[0;34m(self, *args, **kwargs)\u001b[0m\n\u001b[1;32m   3022\u001b[0m        filtered_flat_args) = self._maybe_define_function(args, kwargs)\n\u001b[1;32m   3023\u001b[0m     return graph_function._call_flat(\n\u001b[0;32m-> 3024\u001b[0;31m         filtered_flat_args, captured_inputs=graph_function.captured_inputs)  # pylint: disable=protected-access\n\u001b[0m\u001b[1;32m   3025\u001b[0m \u001b[0;34m\u001b[0m\u001b[0m\n\u001b[1;32m   3026\u001b[0m   \u001b[0;34m@\u001b[0m\u001b[0mproperty\u001b[0m\u001b[0;34m\u001b[0m\u001b[0;34m\u001b[0m\u001b[0m\n",
      "\u001b[0;32m/usr/local/lib/python3.6/dist-packages/tensorflow/python/eager/function.py\u001b[0m in \u001b[0;36m_call_flat\u001b[0;34m(self, args, captured_inputs, cancellation_manager)\u001b[0m\n\u001b[1;32m   1959\u001b[0m       \u001b[0;31m# No tape is watching; skip to running the function.\u001b[0m\u001b[0;34m\u001b[0m\u001b[0;34m\u001b[0m\u001b[0;34m\u001b[0m\u001b[0m\n\u001b[1;32m   1960\u001b[0m       return self._build_call_outputs(self._inference_function.call(\n\u001b[0;32m-> 1961\u001b[0;31m           ctx, args, cancellation_manager=cancellation_manager))\n\u001b[0m\u001b[1;32m   1962\u001b[0m     forward_backward = self._select_forward_and_backward_functions(\n\u001b[1;32m   1963\u001b[0m         \u001b[0margs\u001b[0m\u001b[0;34m,\u001b[0m\u001b[0;34m\u001b[0m\u001b[0;34m\u001b[0m\u001b[0m\n",
      "\u001b[0;32m/usr/local/lib/python3.6/dist-packages/tensorflow/python/eager/function.py\u001b[0m in \u001b[0;36mcall\u001b[0;34m(self, ctx, args, cancellation_manager)\u001b[0m\n\u001b[1;32m    594\u001b[0m               \u001b[0minputs\u001b[0m\u001b[0;34m=\u001b[0m\u001b[0margs\u001b[0m\u001b[0;34m,\u001b[0m\u001b[0;34m\u001b[0m\u001b[0;34m\u001b[0m\u001b[0m\n\u001b[1;32m    595\u001b[0m               \u001b[0mattrs\u001b[0m\u001b[0;34m=\u001b[0m\u001b[0mattrs\u001b[0m\u001b[0;34m,\u001b[0m\u001b[0;34m\u001b[0m\u001b[0;34m\u001b[0m\u001b[0m\n\u001b[0;32m--> 596\u001b[0;31m               ctx=ctx)\n\u001b[0m\u001b[1;32m    597\u001b[0m         \u001b[0;32melse\u001b[0m\u001b[0;34m:\u001b[0m\u001b[0;34m\u001b[0m\u001b[0;34m\u001b[0m\u001b[0m\n\u001b[1;32m    598\u001b[0m           outputs = execute.execute_with_cancellation(\n",
      "\u001b[0;32m/usr/local/lib/python3.6/dist-packages/tensorflow/python/eager/execute.py\u001b[0m in \u001b[0;36mquick_execute\u001b[0;34m(op_name, num_outputs, inputs, attrs, ctx, name)\u001b[0m\n\u001b[1;32m     58\u001b[0m     \u001b[0mctx\u001b[0m\u001b[0;34m.\u001b[0m\u001b[0mensure_initialized\u001b[0m\u001b[0;34m(\u001b[0m\u001b[0;34m)\u001b[0m\u001b[0;34m\u001b[0m\u001b[0;34m\u001b[0m\u001b[0m\n\u001b[1;32m     59\u001b[0m     tensors = pywrap_tfe.TFE_Py_Execute(ctx._handle, device_name, op_name,\n\u001b[0;32m---> 60\u001b[0;31m                                         inputs, attrs, num_outputs)\n\u001b[0m\u001b[1;32m     61\u001b[0m   \u001b[0;32mexcept\u001b[0m \u001b[0mcore\u001b[0m\u001b[0;34m.\u001b[0m\u001b[0m_NotOkStatusException\u001b[0m \u001b[0;32mas\u001b[0m \u001b[0me\u001b[0m\u001b[0;34m:\u001b[0m\u001b[0;34m\u001b[0m\u001b[0;34m\u001b[0m\u001b[0m\n\u001b[1;32m     62\u001b[0m     \u001b[0;32mif\u001b[0m \u001b[0mname\u001b[0m \u001b[0;32mis\u001b[0m \u001b[0;32mnot\u001b[0m \u001b[0;32mNone\u001b[0m\u001b[0;34m:\u001b[0m\u001b[0;34m\u001b[0m\u001b[0;34m\u001b[0m\u001b[0m\n",
      "\u001b[0;31mKeyboardInterrupt\u001b[0m: "
     ]
    }
   ],
   "source": [
    "model.fit(train_generator, validation_data = val_generator, callbacks=[model_checkpoint_callback], epochs = 5)"
   ]
  },
  {
   "cell_type": "code",
   "execution_count": 28,
   "id": "c03d868b-6bcc-4a81-979c-2e2bcdff4c51",
   "metadata": {},
   "outputs": [
    {
     "name": "stdout",
     "output_type": "stream",
     "text": [
      "Model: \"model_2\"\n",
      "__________________________________________________________________________________________________\n",
      "Layer (type)                    Output Shape         Param #     Connected to                     \n",
      "==================================================================================================\n",
      "input_1 (InputLayer)            [(None, 182, 218, 18 0                                            \n",
      "__________________________________________________________________________________________________\n",
      "input_2 (InputLayer)            [(None, 182, 218, 18 0                                            \n",
      "__________________________________________________________________________________________________\n",
      "conv3d (Conv3D)                 (None, 180, 216, 180 448         input_1[0][0]                    \n",
      "__________________________________________________________________________________________________\n",
      "conv3d_2 (Conv3D)               (None, 180, 216, 180 448         input_2[0][0]                    \n",
      "__________________________________________________________________________________________________\n",
      "max_pooling3d (MaxPooling3D)    (None, 90, 108, 90,  0           conv3d[0][0]                     \n",
      "__________________________________________________________________________________________________\n",
      "max_pooling3d_2 (MaxPooling3D)  (None, 90, 108, 90,  0           conv3d_2[0][0]                   \n",
      "__________________________________________________________________________________________________\n",
      "batch_normalization (BatchNorma (None, 90, 108, 90,  64          max_pooling3d[0][0]              \n",
      "__________________________________________________________________________________________________\n",
      "batch_normalization_2 (BatchNor (None, 90, 108, 90,  64          max_pooling3d_2[0][0]            \n",
      "__________________________________________________________________________________________________\n",
      "dropout (Dropout)               (None, 90, 108, 90,  0           batch_normalization[0][0]        \n",
      "__________________________________________________________________________________________________\n",
      "dropout_2 (Dropout)             (None, 90, 108, 90,  0           batch_normalization_2[0][0]      \n",
      "__________________________________________________________________________________________________\n",
      "conv3d_1 (Conv3D)               (None, 88, 106, 88,  13856       dropout[0][0]                    \n",
      "__________________________________________________________________________________________________\n",
      "conv3d_3 (Conv3D)               (None, 88, 106, 88,  13856       dropout_2[0][0]                  \n",
      "__________________________________________________________________________________________________\n",
      "max_pooling3d_1 (MaxPooling3D)  (None, 44, 53, 44, 3 0           conv3d_1[0][0]                   \n",
      "__________________________________________________________________________________________________\n",
      "max_pooling3d_3 (MaxPooling3D)  (None, 44, 53, 44, 3 0           conv3d_3[0][0]                   \n",
      "__________________________________________________________________________________________________\n",
      "batch_normalization_1 (BatchNor (None, 44, 53, 44, 3 128         max_pooling3d_1[0][0]            \n",
      "__________________________________________________________________________________________________\n",
      "batch_normalization_3 (BatchNor (None, 44, 53, 44, 3 128         max_pooling3d_3[0][0]            \n",
      "__________________________________________________________________________________________________\n",
      "dropout_1 (Dropout)             (None, 44, 53, 44, 3 0           batch_normalization_1[0][0]      \n",
      "__________________________________________________________________________________________________\n",
      "dropout_3 (Dropout)             (None, 44, 53, 44, 3 0           batch_normalization_3[0][0]      \n",
      "__________________________________________________________________________________________________\n",
      "concatenate (Concatenate)       (None, 44, 53, 44, 6 0           dropout_1[0][0]                  \n",
      "                                                                 dropout_3[0][0]                  \n",
      "__________________________________________________________________________________________________\n",
      "flatten (Flatten)               (None, 6566912)      0           concatenate[0][0]                \n",
      "__________________________________________________________________________________________________\n",
      "dense (Dense)                   (None, 32)           210141216   flatten[0][0]                    \n",
      "__________________________________________________________________________________________________\n",
      "dense_1 (Dense)                 (None, 32)           1056        dense[0][0]                      \n",
      "__________________________________________________________________________________________________\n",
      "dense_2 (Dense)                 (None, 10)           330         dense_1[0][0]                    \n",
      "__________________________________________________________________________________________________\n",
      "dense_3 (Dense)                 (None, 1)            11          dense_2[0][0]                    \n",
      "==================================================================================================\n",
      "Total params: 210,171,605\n",
      "Trainable params: 210,171,413\n",
      "Non-trainable params: 192\n",
      "__________________________________________________________________________________________________\n"
     ]
    },
    {
     "ename": "AttributeError",
     "evalue": "'NoneType' object has no attribute 'dense_3'",
     "output_type": "error",
     "traceback": [
      "\u001b[0;31m---------------------------------------------------------------------------\u001b[0m",
      "\u001b[0;31mAttributeError\u001b[0m                            Traceback (most recent call last)",
      "\u001b[0;32m<ipython-input-28-5fd1812de572>\u001b[0m in \u001b[0;36m<module>\u001b[0;34m\u001b[0m\n\u001b[0;32m----> 1\u001b[0;31m \u001b[0mmodel\u001b[0m\u001b[0;34m.\u001b[0m\u001b[0msummary\u001b[0m\u001b[0;34m(\u001b[0m\u001b[0;34m)\u001b[0m\u001b[0;34m.\u001b[0m\u001b[0mdense_3\u001b[0m\u001b[0;34m\u001b[0m\u001b[0;34m\u001b[0m\u001b[0m\n\u001b[0m",
      "\u001b[0;31mAttributeError\u001b[0m: 'NoneType' object has no attribute 'dense_3'"
     ]
    }
   ],
   "source": [
    "model.summary().dense_3"
   ]
  },
  {
   "cell_type": "code",
   "execution_count": null,
   "id": "549a971a-ef49-45d5-a7d2-e913e6535a5e",
   "metadata": {},
   "outputs": [],
   "source": [
    "np.arange(len(ids_train))"
   ]
  },
  {
   "cell_type": "code",
   "execution_count": null,
   "id": "dd731893-4da6-4e4b-96a6-4d78e2f30bac",
   "metadata": {},
   "outputs": [],
   "source": [
    "np.array([[[2],[5],[1]],[[1],[2],[3]]]).shape"
   ]
  },
  {
   "cell_type": "code",
   "execution_count": null,
   "id": "c657f9de-c408-43cd-8206-e33af947a866",
   "metadata": {},
   "outputs": [],
   "source": [
    "train_generator.__getitem__(16)[0][0]"
   ]
  },
  {
   "cell_type": "code",
   "execution_count": null,
   "id": "59079201-7b43-4cf9-9d62-94d0b68a7ae7",
   "metadata": {},
   "outputs": [],
   "source": [
    "len(train_generator._generate_X([ids_train.iloc[k] for k in range(1)])[0])"
   ]
  },
  {
   "cell_type": "code",
   "execution_count": null,
   "id": "e5d4b148-9628-4e1a-883a-b7e025fd959f",
   "metadata": {},
   "outputs": [],
   "source": [
    "[markers_train.iloc[k] for k in range(1)]"
   ]
  },
  {
   "cell_type": "code",
   "execution_count": null,
   "id": "2ee950e6-37ba-4a2f-9ff3-19f79fd5b81c",
   "metadata": {},
   "outputs": [],
   "source": [
    "markers_train"
   ]
  },
  {
   "cell_type": "code",
   "execution_count": null,
   "id": "c9e2a95a-e610-4ba6-97c3-79840fba8785",
   "metadata": {},
   "outputs": [],
   "source": [
    "ids_train.iloc[1]"
   ]
  },
  {
   "cell_type": "code",
   "execution_count": 17,
   "id": "76bd3032-deaa-495e-a147-11c715f94979",
   "metadata": {},
   "outputs": [
    {
     "name": "stdout",
     "output_type": "stream",
     "text": [
      "42/42 [==============================] - 135s 3s/step - loss: 9.5869 - mae: 0.4969 - acc: 0.5000\n"
     ]
    },
    {
     "data": {
      "text/plain": [
       "[9.586906433105469, 0.4968603551387787, 0.5]"
      ]
     },
     "execution_count": 17,
     "metadata": {},
     "output_type": "execute_result"
    }
   ],
   "source": [
    "model.evaluate(val_generator)"
   ]
  },
  {
   "cell_type": "code",
   "execution_count": null,
   "id": "79366295-a2f7-448d-8cbf-b408e4d66d44",
   "metadata": {},
   "outputs": [],
   "source": []
  }
 ],
 "metadata": {
  "kernelspec": {
   "display_name": "Python 3",
   "language": "python",
   "name": "python3"
  },
  "language_info": {
   "codemirror_mode": {
    "name": "ipython",
    "version": 3
   },
   "file_extension": ".py",
   "mimetype": "text/x-python",
   "name": "python",
   "nbconvert_exporter": "python",
   "pygments_lexer": "ipython3",
   "version": "3.6.9"
  }
 },
 "nbformat": 4,
 "nbformat_minor": 5
}
