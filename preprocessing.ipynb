{
 "cells": [
  {
   "cell_type": "code",
   "execution_count": 1,
   "id": "8b45192c-b88b-44ce-8d1e-7271120e7b69",
   "metadata": {},
   "outputs": [],
   "source": [
    "import fsl"
   ]
  },
  {
   "cell_type": "code",
   "execution_count": 2,
   "id": "7f0c9673-ad57-406b-921f-5a2221d096c9",
   "metadata": {},
   "outputs": [],
   "source": [
    "import ants"
   ]
  },
  {
   "cell_type": "code",
   "execution_count": 3,
   "id": "04fafa42-0510-4c5a-a412-e3713c6528e4",
   "metadata": {},
   "outputs": [],
   "source": [
    "import os\n",
    "os.environ[\"TMPDIR\"] = \"/workspace/temp\"\n"
   ]
  },
  {
   "cell_type": "code",
   "execution_count": 4,
   "id": "8b46f22c-ec55-44f4-8d5b-41f275a9a40b",
   "metadata": {},
   "outputs": [],
   "source": [
    "import nibabel as nib\n",
    "from deepbrain import Extractor\n",
    "import os\n",
    "import pandas as pd\n",
    "import numpy as np\n",
    "from pathlib import Path\n",
    "import time"
   ]
  },
  {
   "cell_type": "code",
   "execution_count": null,
   "id": "d0719d58-1390-456b-b2a3-b57e8543f1ac",
   "metadata": {},
   "outputs": [],
   "source": [
    "patients = pd.read_csv(\"idaSearch_7_07_2021 (3).csv\")\n",
    "\n",
    "def strip(file, output, name):\n",
    "    img = nib.load(file).get_fdata().squeeze()\n",
    "    affine = nib.load(file).affine\n",
    "    now = time.time()\n",
    "    ext = Extractor()\n",
    "    prob = ext.run(img) \n",
    "    mask = prob >= 0\n",
    "    stripped = (1 * mask).astype(np.uint8)\n",
    "    stripped = nib.Nifti1Image(stripped, affine)\n",
    "  \n",
    "    brain = img[:]\n",
    "    brain[~mask] = 0\n",
    "    brain = nib.Nifti1Image(brain, affine)\n",
    "    nib.save(brain, \"petbrains/\" + str(name + \".nii.gz\"))\n",
    "    #nib.save(stripped, str(name + \"_mask.nii.gz\"))\n",
    "    print(\"Extraction time: {0:.2f} secs.\".format(time.time() - now))\n",
    "    \n",
    "def strippet(file, output, name):\n",
    "    img = nib.load(file).get_fdata().squeeze()\n",
    "    affine = nib.load(file).affine\n",
    "    now = time.time()\n",
    "    #ext = Extractor()\n",
    "    #prob = ext.run(img) \n",
    "    mask = img >= .5\n",
    "    stripped = (1 * mask).astype(np.uint8)\n",
    "    stripped = nib.Nifti1Image(stripped, affine)\n",
    "   \n",
    "    brain = img[:]\n",
    "    brain[~mask] = 0\n",
    "    brain = nib.Nifti1Image(brain, affine)\n",
    "    nib.save(brain, \"petbrains/\" + str(name + \".nii.gz\"))\n",
    "    #nib.save(stripped, str(name + \"_mask.nii.gz\"))\n",
    "    print(\"Extraction time: {0:.2f} secs.\".format(time.time() - now))\n",
    "    \n",
    "strippet(\"data/new_alzheimers/ADNI/002_S_5018/Coreg,_Avg,_Standardized_Image_and_Voxel_Size/2012-11-14_08_14_11.0/I347757/ADNI_002_S_5018_PT_Coreg,_Avg,_Standardized_Image_and_Voxel_Size_Br_20121126135446331_69_S174525_I347757.nii\", \"petbrains\", \"347757\")"
   ]
  },
  {
   "cell_type": "code",
   "execution_count": null,
   "id": "56877d39-579c-4265-8d99-625bfda1db75",
   "metadata": {},
   "outputs": [],
   "source": [
    "PET = patients.loc[(patients[\"Modality\"] == \"PET\")][\"Image ID\"].values\n",
    "\n",
    "for root, directories, files in os.walk(\"./data\"):\n",
    "    for file in files:\n",
    "        if file.endswith(\"brain.nii.gz\"):\n",
    "            pass\n",
    "        #elif Path(root+\"brain.nii.gz\").exists():\n",
    "        #    pass\n",
    "        elif int(file.split(\"_I\")[-1][:-4]) in PET:\n",
    "           # print(int(file.split(\"_I\")[-1][:-4]))\n",
    "            strippet(os.path.join(root, file), root, file.split(\"_I\")[-1][:-4])"
   ]
  },
  {
   "cell_type": "code",
   "execution_count": 5,
   "id": "b388c246-61af-405f-94d2-6acb962885b3",
   "metadata": {},
   "outputs": [],
   "source": [
    "from fsl.wrappers.flirt import flirt\n",
    "def register(image_id, size=\"1\"):\n",
    "    brain = ants.image_read(\"brains/\" + image_id + \".nii.gz\")\n",
    "    #mask = ants.image_read(\"masks/\" + image_id+\"_mask.nii.gz\")\n",
    "    ref = ants.image_read(\"MNI152_T1_1mm_brain.nii.gz\")\n",
    "    reg = \"reg\" if size == 1 else f\"reg{size}\"\n",
    "    #out = Path(\"registered/\"+image_id + f\"brain_{reg}.nii.gz\")\n",
    "    #mat = Path(\"registered/\"+image_id + f\"brain_{reg}.mat\")\n",
    "    #full = Path(\"registered/\"+image_id + f\"full_{reg}.nii.gz\")\n",
    "    #mask_out = Path(\"registered/\"+image_id + f\"brain_mask_{reg}.nii.gz\")\n",
    "                   \n",
    "    now = time.time()\n",
    "    print(\"begin\", flush = True)\n",
    "    registered = ants.registration(ref, brain, type_of_transform = \"SyN\")\n",
    "    print(\"registered\", flush = True)\n",
    "\n",
    "    output = ants.apply_transforms(ref, brain, registered['fwdtransforms'])\n",
    "    print(\"Registration time: {0:.2f} secs.\".format(time.time() - now), flush = True)\n",
    "    nib.save(ants.utils.convert_nibabel.to_nibabel(output), \"registered/\" + image_id + \"_registered.nii.gz\")#     if not full.exists():\n",
    "#         now = time.time() \n",
    "#         flirt(src,ref,out=full,applyxfm=True,init=mat,v=True)\n",
    "#         print(\"Full head time: {0:.2f} secs.\".format(time.time() - now))\n",
    "        \n",
    "#     if not mask_out.exists():\n",
    "#         now = time.time()\n",
    "#         flirt(mask.as_posix(),ref,out=mask_out,applyxfm=True,init=mat,v=True)\n",
    "#         print(\"Mask time: {0:.2f} secs.\".format(time.time() - now))"
   ]
  },
  {
   "cell_type": "code",
   "execution_count": 6,
   "id": "4f4cb4d6-c714-4338-86ca-e48168a26930",
   "metadata": {},
   "outputs": [],
   "source": [
    "alz = pd.read_csv(\"alzheimers.csv\").drop_duplicates()\n",
    "conv = pd.read_csv(\"converted.csv\").drop_duplicates()\n",
    "non = pd.read_csv(\"nonconverted.csv\").drop_duplicates()\n",
    "cont = pd.read_csv(\"control.csv\").drop_duplicates()"
   ]
  },
  {
   "cell_type": "code",
   "execution_count": 9,
   "id": "d8f13d9e-b0b7-444c-8d01-75a8ba4c8376",
   "metadata": {},
   "outputs": [
    {
     "name": "stdout",
     "output_type": "stream",
     "text": [
      "something went wrong with 74612\n",
      "something went wrong with 36567\n",
      "something went wrong with 56317\n",
      "something went wrong with 298812\n",
      "something went wrong with 356625\n",
      "something went wrong with 383217\n",
      "something went wrong with 60437\n",
      "something went wrong with 65598\n",
      "something went wrong with 32235\n",
      "something went wrong with 35484\n",
      "something went wrong with 32005\n",
      "something went wrong with 298816\n",
      "something went wrong with 334757\n",
      "something went wrong with 366687\n",
      "something went wrong with 334763\n",
      "something went wrong with 63404\n",
      "something went wrong with 63413\n",
      "something went wrong with 356638\n",
      "something went wrong with 38654\n",
      "something went wrong with 38659\n",
      "something went wrong with 65246\n",
      "something went wrong with 62936\n",
      "something went wrong with 306756\n",
      "something went wrong with 39922\n",
      "something went wrong with 63173\n",
      "something went wrong with 67221\n",
      "something went wrong with 95660\n",
      "something went wrong with 66076\n",
      "something went wrong with 82579\n",
      "something went wrong with 298893\n",
      "something went wrong with 356652\n",
      "something went wrong with 356653\n",
      "something went wrong with 366694\n",
      "something went wrong with 298791\n",
      "something went wrong with 334749\n",
      "something went wrong with 334792\n",
      "something went wrong with 334794\n",
      "something went wrong with 32666\n",
      "something went wrong with 412372\n",
      "something went wrong with 334753\n",
      "something went wrong with 63321\n",
      "something went wrong with 32244\n",
      "something went wrong with 32304\n",
      "something went wrong with 32355\n",
      "something went wrong with 233460\n",
      "something went wrong with 296309\n",
      "something went wrong with 36941\n",
      "something went wrong with 36977\n",
      "something went wrong with 65102\n",
      "something went wrong with 124900\n",
      "something went wrong with 65218\n",
      "something went wrong with 39876\n",
      "something went wrong with 47040\n",
      "something went wrong with 63466\n",
      "something went wrong with 334769\n",
      "something went wrong with 298860\n",
      "something went wrong with 55046\n",
      "something went wrong with 66152\n",
      "something went wrong with 281407\n",
      "something went wrong with 334777\n",
      "something went wrong with 334779\n",
      "something went wrong with 298899\n",
      "something went wrong with 265204\n",
      "something went wrong with 54691\n",
      "something went wrong with 32854\n",
      "something went wrong with 60403\n",
      "something went wrong with 387742\n",
      "something went wrong with 118696\n",
      "something went wrong with 36606\n",
      "something went wrong with 92659\n",
      "something went wrong with 63353\n",
      "something went wrong with 35516\n",
      "something went wrong with 62639\n",
      "something went wrong with 334796\n",
      "something went wrong with 34670\n",
      "something went wrong with 62709\n",
      "something went wrong with 65269\n",
      "something went wrong with 37002\n",
      "something went wrong with 65089\n",
      "something went wrong with 65107\n",
      "something went wrong with 65121\n",
      "something went wrong with 34678\n",
      "something went wrong with 39509\n",
      "something went wrong with 72217\n",
      "something went wrong with 72226\n",
      "something went wrong with 73360\n",
      "something went wrong with 356641\n",
      "something went wrong with 75483\n",
      "something went wrong with 63222\n",
      "something went wrong with 298867\n",
      "something went wrong with 298883\n",
      "something went wrong with 334773\n",
      "something went wrong with 334775\n",
      "something went wrong with 67269\n",
      "something went wrong with 91124\n",
      "something went wrong with 298888\n",
      "something went wrong with 356648\n",
      "something went wrong with 298800\n",
      "something went wrong with 32680\n",
      "something went wrong with 52834\n",
      "something went wrong with 67140\n",
      "something went wrong with 65278\n",
      "something went wrong with 334788\n",
      "something went wrong with 36922\n",
      "something went wrong with 36947\n",
      "something went wrong with 39477\n",
      "something went wrong with 34687\n",
      "something went wrong with 40035\n",
      "something went wrong with 40049\n",
      "something went wrong with 40058\n",
      "something went wrong with 65242\n",
      "something went wrong with 80164\n",
      "something went wrong with 73636\n",
      "something went wrong with 79621\n",
      "something went wrong with 334803\n",
      "something went wrong with 63116\n",
      "something went wrong with 63132\n",
      "something went wrong with 66054\n",
      "something went wrong with 63199\n",
      "something went wrong with 73650\n",
      "something went wrong with 97194\n",
      "something went wrong with 66174\n",
      "something went wrong with 334771\n",
      "something went wrong with 334776\n",
      "something went wrong with 334805\n"
     ]
    },
    {
     "data": {
      "text/plain": [
       "564"
      ]
     },
     "execution_count": 9,
     "metadata": {},
     "output_type": "execute_result"
    }
   ],
   "source": [
    "for ids in alz[\"MRI_ID\"]:\n",
    "    if Path(\"registered/\"+ str(ids) + \"_registered.nii.gz\").exists():\n",
    "        pass\n",
    "    else:\n",
    "        try:\n",
    "            register(str(ids))\n",
    "        except:\n",
    "            print(\"something went wrong with \" + str(ids))\n",
    "\n",
    "for ids in cont[\"MRI_ID\"]:\n",
    "    if Path(\"registered/\"+ str(ids) + \"_registered.nii.gz\").exists():\n",
    "        pass\n",
    "    else:\n",
    "        try:\n",
    "            register(str(ids))\n",
    "        except:\n",
    "            print(\"something went wrong with \" + str(ids))\n",
    "\n",
    "for ids in conv[\"MRI_ID\"]:\n",
    "    if Path(\"registered/\"+ str(ids) + \"_registered.nii.gz\").exists():\n",
    "        pass\n",
    "    else:\n",
    "        try:\n",
    "            register(str(ids))\n",
    "        except:\n",
    "            print(\"something went wrong with \" + str(ids))\n",
    "\n",
    "for ids in non[\"MRI_ID\"]:\n",
    "    if Path(\"registered/\"+ str(ids) + \"_registered.nii.gz\").exists():\n",
    "        pass\n",
    "    else:\n",
    "        try:\n",
    "            register(str(ids))\n",
    "        except:\n",
    "            print(\"something went wrong with \" + str(ids))\n",
    "\n",
    "alz[\"MRI_ID\"].size + cont[\"MRI_ID\"].size + conv[\"MRI_ID\"].size + non[\"MRI_ID\"].size"
   ]
  },
  {
   "cell_type": "code",
   "execution_count": null,
   "id": "0e0db140-9887-4516-b2b1-aacba611d8d1",
   "metadata": {},
   "outputs": [
    {
     "name": "stdout",
     "output_type": "stream",
     "text": [
      "begin\n"
     ]
    }
   ],
   "source": [
    "for ids in [306756]:\n",
    "    brain = ants.image_read(\"brains/\" + str(ids) + \".nii.gz\")\n",
    "    ref = ants.image_read(\"MNI152_T1_1mm_brain.nii.gz\")\n",
    "    reg = \"reg\"\n",
    "    now = time.time()\n",
    "    print(\"begin\", flush = True)\n",
    "    registered = ants.registration(ref, brain, type_of_transform = \"SyN\")\n",
    "    print(\"registered\", flush = True)\n",
    "\n",
    "    output = ants.apply_transforms(ref, brain, registered['fwdtransforms'])\n",
    "    print(\"Registration time: {0:.2f} secs.\".format(time.time() - now), flush = True)\n",
    "    nib.save(ants.utils.convert_nibabel.to_nibabel(output), \"registered/\" + str(ids) + \"_registered.nii.gz\")\n",
    "    print(\"Extraction time: {0:.2f} secs.\".format(time.time() - now))\n"
   ]
  },
  {
   "cell_type": "code",
   "execution_count": null,
   "id": "dac8683c-55b2-4904-8eef-3b81ce593e09",
   "metadata": {},
   "outputs": [],
   "source": [
    "from fsl.wrappers.flirt import flirt\n",
    "def register(image_id, size=\"1\"):\n",
    "    brain = ants.image_read(\"petbrains/\" + image_id + \".nii.gz\")\n",
    "    #mask = ants.image_read(\"masks/\" + image_id+\"_mask.nii.gz\")\n",
    "    ref = ants.image_read(\"MNI152_T1_1mm_brain.nii.gz\")\n",
    "    reg = \"reg\" if size == 1 else f\"reg{size}\"\n",
    "    out = Path(\"petregistered/\"+image_id + f\"brain_{reg}.nii.gz\")\n",
    "    mat = Path(\"petregistered/\"+image_id + f\"brain_{reg}.mat\")\n",
    "    full = Path(\"petregistered/\"+image_id + f\"full_{reg}.nii.gz\")\n",
    "    mask_out = Path(\"petregistered/\"+image_id + f\"brain_mask_{reg}.nii.gz\")\n",
    "                   \n",
    "    if not mat.exists():\n",
    "        now = time.time()\n",
    "        registered = ants.registration(ref, brain, type_of_transform = \"SyN\")\n",
    "        output = ants.apply_transforms(ref, brain, registered['fwdtransforms'])\n",
    "        print(\"Registration time: {0:.2f} secs.\".format(time.time() - now))\n",
    "        nib.save(ants.utils.convert_nibabel.to_nibabel(output), \"petregistered/\" + image_id + \"_registered.nii.gz\")#     if not full.exists():\n",
    "#         now = time.time() \n",
    "#         flirt(src,ref,out=full,applyxfm=True,init=mat,v=True)\n",
    "#         print(\"Full head time: {0:.2f} secs.\".format(time.time() - now))\n",
    "        \n",
    "#     if not mask_out.exists():\n",
    "#         now = time.time()\n",
    "#         flirt(mask.as_posix(),ref,out=mask_out,applyxfm=True,init=mat,v=True)\n",
    "#         print(\"Mask time: {0:.2f} secs.\".format(time.time() - now))\n",
    "\n",
    "for ids in alz[\"PET_ID\"]:\n",
    "    if Path(\"petregistered/\"+ str(ids) + \"_registered.nii.gz\").exists():\n",
    "        pass\n",
    "    else:\n",
    "        try:\n",
    "            register(str(ids))\n",
    "        except:\n",
    "            print(\"something went wrong with \" + str(ids))\n",
    "\n",
    "for ids in cont[\"PET_ID\"]:\n",
    "    if Path(\"petregistered/\"+ str(ids) + \"_registered.nii.gz\").exists():\n",
    "        pass\n",
    "    else:\n",
    "        try:\n",
    "            register(str(ids))\n",
    "        except:\n",
    "            print(\"something went wrong with \" + str(ids))\n",
    "\n",
    "for ids in conv[\"PET_ID\"]:\n",
    "    if Path(\"petregistered/\"+ str(ids) + \"_registered.nii.gz\").exists():\n",
    "        pass\n",
    "    else:\n",
    "        try:\n",
    "            register(str(ids))\n",
    "        except:\n",
    "            print(\"something went wrong with \" + str(ids))\n",
    "\n",
    "for ids in non[\"PET_ID\"]:\n",
    "    if Path(\"petregistered/\"+ str(ids) + \"_registered.nii.gz\").exists():\n",
    "        pass\n",
    "    else:\n",
    "        try:\n",
    "            register(str(ids))\n",
    "        except:\n",
    "            print(\"something went wrong with \" + str(ids))\n"
   ]
  },
  {
   "cell_type": "code",
   "execution_count": null,
   "id": "2a7a54b0-6fb0-40a8-9f61-8113c0a785c3",
   "metadata": {},
   "outputs": [],
   "source": [
    "img = nib.load(\"data/new_control/ADNI/007_S_4387/Coreg,_Avg,_Standardized_Image_and_Voxel_Size/2011-12-19_14_03_00.0/I274777/ADNI_007_S_4387_PT_Coreg,_Avg,_Standardized_Image_and_Voxel_Size_Br_20120102142716286_82_S134552_I274777.nii\")"
   ]
  },
  {
   "cell_type": "code",
   "execution_count": null,
   "id": "b1ba26b9-1af1-46fc-bc09-04c5db663929",
   "metadata": {},
   "outputs": [],
   "source": [
    "img = img.get_fdata()"
   ]
  },
  {
   "cell_type": "code",
   "execution_count": null,
   "id": "efd73d5c-5da2-42fd-9eb5-5dec6b398c34",
   "metadata": {},
   "outputs": [],
   "source": [
    "img.max()"
   ]
  },
  {
   "cell_type": "code",
   "execution_count": null,
   "id": "b7a3d263-7d5b-4ebf-92f5-d7ef53ec419f",
   "metadata": {},
   "outputs": [],
   "source": [
    "root='./data/new_converts/ADNI'\n",
    "convlist = [ item for item in os.listdir(root) if os.path.isdir(os.path.join(root, item)) ]\n"
   ]
  },
  {
   "cell_type": "code",
   "execution_count": null,
   "id": "b6d3d2e4-6fc2-4032-9148-d8261797ee59",
   "metadata": {},
   "outputs": [],
   "source": [
    "root='./data/new_nonconverts/ADNI'\n",
    "nonconvlist = [ item for item in os.listdir(root) if os.path.isdir(os.path.join(root, item)) ]\n"
   ]
  },
  {
   "cell_type": "code",
   "execution_count": null,
   "id": "6fcac8ed-1cd5-45ea-b2e5-e10bbae807b7",
   "metadata": {},
   "outputs": [],
   "source": [
    "len(set(convlist) & set(nonconvlist))"
   ]
  },
  {
   "cell_type": "code",
   "execution_count": null,
   "id": "68ab3068-2f30-49d9-a1ff-3b9076d7c63a",
   "metadata": {},
   "outputs": [],
   "source": [
    "root='./data/new_alzheimers/ADNI'\n",
    "alzlist = [ item for item in os.listdir(root) if os.path.isdir(os.path.join(root, item)) ]\n"
   ]
  },
  {
   "cell_type": "code",
   "execution_count": null,
   "id": "c322e017-c052-415d-b2c5-34df1f3b91ae",
   "metadata": {},
   "outputs": [],
   "source": [
    "root='./data/new_control/ADNI'\n",
    "controllist = [ item for item in os.listdir(root) if os.path.isdir(os.path.join(root, item)) ]\n"
   ]
  },
  {
   "cell_type": "code",
   "execution_count": null,
   "id": "0d05dcd1-0a52-43fc-9e35-a12f9e72588d",
   "metadata": {},
   "outputs": [],
   "source": [
    "set(controllist) & set(convlist)"
   ]
  },
  {
   "cell_type": "code",
   "execution_count": null,
   "id": "3ba81a5a-8b62-40b5-9597-a73c3e059e21",
   "metadata": {},
   "outputs": [],
   "source": [
    "registered"
   ]
  },
  {
   "cell_type": "code",
   "execution_count": 12,
   "id": "46efd314-31f9-4452-993e-340c6e344299",
   "metadata": {},
   "outputs": [],
   "source": [
    "    ref = ants.image_read(\"MNI152_T1_1mm_brain.nii.gz\")\n"
   ]
  },
  {
   "cell_type": "code",
   "execution_count": null,
   "id": "32f9a39b-6a0d-4437-9899-7424497b9ae4",
   "metadata": {},
   "outputs": [],
   "source": []
  }
 ],
 "metadata": {
  "kernelspec": {
   "display_name": "Python 3 (ipykernel)",
   "language": "python",
   "name": "python3"
  },
  "language_info": {
   "codemirror_mode": {
    "name": "ipython",
    "version": 3
   },
   "file_extension": ".py",
   "mimetype": "text/x-python",
   "name": "python",
   "nbconvert_exporter": "python",
   "pygments_lexer": "ipython3",
   "version": "3.7.3"
  }
 },
 "nbformat": 4,
 "nbformat_minor": 5
}
