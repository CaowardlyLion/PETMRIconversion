{
 "cells": [
  {
   "cell_type": "code",
   "execution_count": 1,
   "id": "8b45192c-b88b-44ce-8d1e-7271120e7b69",
   "metadata": {},
   "outputs": [],
   "source": [
    "import fsl"
   ]
  },
  {
   "cell_type": "code",
   "execution_count": 2,
   "id": "7f0c9673-ad57-406b-921f-5a2221d096c9",
   "metadata": {},
   "outputs": [],
   "source": [
    "import ants"
   ]
  },
  {
   "cell_type": "code",
   "execution_count": 3,
   "id": "04fafa42-0510-4c5a-a412-e3713c6528e4",
   "metadata": {},
   "outputs": [],
   "source": [
    "import os\n",
    "os.environ[\"TMPDIR\"] = \"/workspace/temp\"\n"
   ]
  },
  {
   "cell_type": "code",
   "execution_count": 4,
   "id": "8b46f22c-ec55-44f4-8d5b-41f275a9a40b",
   "metadata": {},
   "outputs": [],
   "source": [
    "import nibabel as nib\n",
    "from deepbrain import Extractor\n",
    "import os\n",
    "import pandas as pd\n",
    "import numpy as np\n",
    "from pathlib import Path\n",
    "import time"
   ]
  },
  {
   "cell_type": "code",
   "execution_count": null,
   "id": "66d9eb83-d097-48b9-bf62-d826a06e6db0",
   "metadata": {},
   "outputs": [],
   "source": [
    "patients = pd.read_csv(\"idaSearch_7_07_2021 (3).csv\")\n",
    "\n",
    "def strip(file, output, name):\n",
    "    img = nib.load(file).get_fdata()\n",
    "    affine = nib.load(file).affine\n",
    "    now = time.time()\n",
    "    ext = Extractor()\n",
    "    prob = ext.run(img) \n",
    "    mask = prob > 0.5\n",
    "    stripped = (1 * mask).astype(np.uint8)\n",
    "    stripped = nib.Nifti1Image(stripped, affine)\n",
    "  \n",
    "    brain = img[:]\n",
    "    brain[~mask] = 0\n",
    "    brain = nib.Nifti1Image(brain, affine)\n",
    "    nib.save(brain, str(name + \".nii.gz\"))\n",
    "    #nib.save(stripped, str(name + \"_mask.nii.gz\"))\n",
    "    print(\"Extraction time: {0:.2f} secs.\".format(time.time() - now))\n",
    "    \n",
    "PET = patients.loc[(patients[\"Modality\"] == \"PET\")][\"Image ID\"].values\n",
    "\n",
    "for root, directories, files in os.walk(\"./data\"):\n",
    "    for file in files:\n",
    "        if file.endswith(\"brain.nii.gz\"):\n",
    "            pass\n",
    "        #elif Path(root+\"brain.nii.gz\").exists():\n",
    "        #    pass\n",
    "        elif int(file.split(\"_I\")[-1][:-4]) in PET:\n",
    "           # print(int(file.split(\"_I\")[-1][:-4]))\n",
    "            strip(os.path.join(root, file), root, file.split(\"_I\")[-1][:-4])"
   ]
  },
  {
   "cell_type": "code",
   "execution_count": 5,
   "id": "b388c246-61af-405f-94d2-6acb962885b3",
   "metadata": {},
   "outputs": [],
   "source": [
    "from fsl.wrappers.flirt import flirt\n",
    "def register(image_id, size=\"1\"):\n",
    "    brain = ants.image_read(\"brains/\" + image_id + \".nii.gz\")\n",
    "    #mask = ants.image_read(\"masks/\" + image_id+\"_mask.nii.gz\")\n",
    "    ref = ants.image_read(\"MNI152_T1_1mm_brain.nii.gz\")\n",
    "    reg = \"reg\" if size == 1 else f\"reg{size}\"\n",
    "    out = Path(\"registered/\"+image_id + f\"brain_{reg}.nii.gz\")\n",
    "    mat = Path(\"registered/\"+image_id + f\"brain_{reg}.mat\")\n",
    "    full = Path(\"registered/\"+image_id + f\"full_{reg}.nii.gz\")\n",
    "    mask_out = Path(\"registered/\"+image_id + f\"brain_mask_{reg}.nii.gz\")\n",
    "                   \n",
    "    if not mat.exists():\n",
    "        now = time.time()\n",
    "        registered = ants.registration(ref, brain, type_of_transform = \"SyN\")\n",
    "        output = ants.apply_transforms(ref, brain, registered['fwdtransforms'])\n",
    "        print(\"Registration time: {0:.2f} secs.\".format(time.time() - now))\n",
    "        nib.save(ants.utils.convert_nibabel.to_nibabel(output), \"registered/\" + image_id + \"_registered.nii.gz\")#     if not full.exists():\n",
    "#         now = time.time() \n",
    "#         flirt(src,ref,out=full,applyxfm=True,init=mat,v=True)\n",
    "#         print(\"Full head time: {0:.2f} secs.\".format(time.time() - now))\n",
    "        \n",
    "#     if not mask_out.exists():\n",
    "#         now = time.time()\n",
    "#         flirt(mask.as_posix(),ref,out=mask_out,applyxfm=True,init=mat,v=True)\n",
    "#         print(\"Mask time: {0:.2f} secs.\".format(time.time() - now))"
   ]
  },
  {
   "cell_type": "code",
   "execution_count": 26,
   "id": "4f4cb4d6-c714-4338-86ca-e48168a26930",
   "metadata": {},
   "outputs": [],
   "source": [
    "alz = pd.read_csv(\"alzheimers.csv\").drop_duplicates()\n",
    "conv = pd.read_csv(\"converted.csv\").drop_duplicates()\n",
    "non = pd.read_csv(\"nonconverted.csv\").drop_duplicates()\n",
    "cont = pd.read_csv(\"control.csv\").drop_duplicates()"
   ]
  },
  {
   "cell_type": "code",
   "execution_count": 27,
   "id": "e3ecf10e-93c5-4421-9310-941804f50038",
   "metadata": {},
   "outputs": [],
   "source": [
    "for ids in alz[\"MRI_ID\"]:\n",
    "    if Path(\"registered/\"+ str(ids) + \"_registered.nii.gz\").exists():\n",
    "        pass\n",
    "    else:\n",
    "        try:\n",
    "            register(str(ids))\n",
    "        except:\n",
    "            print(\"something went wrong with \" + str(ids))\n",
    "\n",
    "for ids in cont[\"MRI_ID\"]:\n",
    "    if Path(\"registered/\"+ str(ids) + \"_registered.nii.gz\").exists():\n",
    "        pass\n",
    "    else:\n",
    "        try:\n",
    "            register(str(ids))\n",
    "        except:\n",
    "            print(\"something went wrong with \" + str(ids))\n",
    "\n",
    "for ids in conv[\"MRI_ID\"]:\n",
    "    if Path(\"registered/\"+ str(ids) + \"_registered.nii.gz\").exists():\n",
    "        pass\n",
    "    else:\n",
    "        try:\n",
    "            register(str(ids))\n",
    "        except:\n",
    "            print(\"something went wrong with \" + str(ids))\n",
    "\n",
    "for ids in non[\"MRI_ID\"]:\n",
    "    if Path(\"registered/\"+ str(ids) + \"_registered.nii.gz\").exists():\n",
    "        pass\n",
    "    else:\n",
    "        try:\n",
    "            register(str(ids))\n",
    "        except:\n",
    "            print(\"something went wrong with \" + str(ids))\n",
    "\n",
    "alz[\"MRI_ID\"].size + cont[\"MRI_ID\"].size + conv[\"MRI_ID\"].size + non[\"MRI_ID\"].size"
   ]
  },
  {
   "cell_type": "code",
   "execution_count": 37,
   "id": "dac8683c-55b2-4904-8eef-3b81ce593e09",
   "metadata": {},
   "outputs": [
    {
     "name": "stdout",
     "output_type": "stream",
     "text": [
      "something went wrong with 26491\n",
      "something went wrong with 282605\n",
      "something went wrong with 242607\n",
      "something went wrong with 248342\n",
      "something went wrong with 27906\n",
      "something went wrong with 287394\n",
      "something went wrong with 274773\n",
      "something went wrong with 26416\n",
      "something went wrong with 26495\n"
     ]
    }
   ],
   "source": [
    "from fsl.wrappers.flirt import flirt\n",
    "def register(image_id, size=\"1\"):\n",
    "    brain = ants.image_read(\"petbrains/\" + image_id + \".nii.gz\")\n",
    "    #mask = ants.image_read(\"masks/\" + image_id+\"_mask.nii.gz\")\n",
    "    ref = ants.image_read(\"MNI152_T1_1mm_brain.nii.gz\")\n",
    "    reg = \"reg\" if size == 1 else f\"reg{size}\"\n",
    "    out = Path(\"petregistered/\"+image_id + f\"brain_{reg}.nii.gz\")\n",
    "    mat = Path(\"petregistered/\"+image_id + f\"brain_{reg}.mat\")\n",
    "    full = Path(\"petregistered/\"+image_id + f\"full_{reg}.nii.gz\")\n",
    "    mask_out = Path(\"petregistered/\"+image_id + f\"brain_mask_{reg}.nii.gz\")\n",
    "                   \n",
    "    if not mat.exists():\n",
    "        now = time.time()\n",
    "        registered = ants.registration(ref, brain, type_of_transform = \"SyN\")\n",
    "        output = ants.apply_transforms(ref, brain, registered['fwdtransforms'])\n",
    "        print(\"Registration time: {0:.2f} secs.\".format(time.time() - now))\n",
    "        nib.save(ants.utils.convert_nibabel.to_nibabel(output), \"petregistered/\" + image_id + \"_registered.nii.gz\")#     if not full.exists():\n",
    "#         now = time.time() \n",
    "#         flirt(src,ref,out=full,applyxfm=True,init=mat,v=True)\n",
    "#         print(\"Full head time: {0:.2f} secs.\".format(time.time() - now))\n",
    "        \n",
    "#     if not mask_out.exists():\n",
    "#         now = time.time()\n",
    "#         flirt(mask.as_posix(),ref,out=mask_out,applyxfm=True,init=mat,v=True)\n",
    "#         print(\"Mask time: {0:.2f} secs.\".format(time.time() - now))\n",
    "\n",
    "for ids in alz[\"PET_ID\"]:\n",
    "    if Path(\"petregistered/\"+ str(ids) + \"_registered.nii.gz\").exists():\n",
    "        pass\n",
    "    else:\n",
    "        try:\n",
    "            register(str(ids))\n",
    "        except:\n",
    "            print(\"something went wrong with \" + str(ids))\n",
    "\n",
    "for ids in cont[\"PET_ID\"]:\n",
    "    if Path(\"petregistered/\"+ str(ids) + \"_registered.nii.gz\").exists():\n",
    "        pass\n",
    "    else:\n",
    "        try:\n",
    "            register(str(ids))\n",
    "        except:\n",
    "            print(\"something went wrong with \" + str(ids))\n",
    "\n",
    "for ids in conv[\"PET_ID\"]:\n",
    "    if Path(\"petregistered/\"+ str(ids) + \"_registered.nii.gz\").exists():\n",
    "        pass\n",
    "    else:\n",
    "        try:\n",
    "            register(str(ids))\n",
    "        except:\n",
    "            print(\"something went wrong with \" + str(ids))\n",
    "\n",
    "for ids in non[\"PET_ID\"]:\n",
    "    if Path(\"petregistered/\"+ str(ids) + \"_registered.nii.gz\").exists():\n",
    "        pass\n",
    "    else:\n",
    "        try:\n",
    "            register(str(ids))\n",
    "        except:\n",
    "            print(\"something went wrong with \" + str(ids))\n"
   ]
  },
  {
   "cell_type": "code",
   "execution_count": 36,
   "id": "2a7a54b0-6fb0-40a8-9f61-8113c0a785c3",
   "metadata": {},
   "outputs": [
    {
     "name": "stdout",
     "output_type": "stream",
     "text": [
      "Registration time: 60.59 secs.\n"
     ]
    }
   ],
   "source": [
    "register(\"26487\")"
   ]
  },
  {
   "cell_type": "code",
   "execution_count": 38,
   "id": "b1ba26b9-1af1-46fc-bc09-04c5db663929",
   "metadata": {},
   "outputs": [
    {
     "name": "stdout",
     "output_type": "stream",
     "text": [
      "257219\n",
      "262695\n",
      "264141\n",
      "289809\n",
      "311755\n",
      "26248\n",
      "26256\n",
      "40888\n",
      "270590\n",
      "273887\n",
      "290271\n",
      "25349\n",
      "26416\n",
      "26487\n",
      "26495\n",
      "26503\n",
      "30985\n",
      "269760\n",
      "315199\n",
      "26670\n",
      "36819\n",
      "27006\n",
      "27014\n",
      "27018\n",
      "44538\n",
      "269486\n",
      "250199\n",
      "304706\n",
      "246831\n",
      "255912\n",
      "265133\n",
      "306200\n",
      "301470\n",
      "337879\n",
      "266074\n",
      "40892\n",
      "280211\n",
      "325139\n",
      "257594\n",
      "260445\n",
      "286569\n",
      "300121\n",
      "339791\n",
      "30494\n",
      "50636\n",
      "313240\n",
      "313248\n",
      "335295\n",
      "345458\n",
      "343408\n",
      "312964\n",
      "240860\n",
      "258854\n",
      "310820\n",
      "257236\n",
      "300390\n",
      "300398\n",
      "334281\n",
      "29192\n",
      "36202\n",
      "36869\n",
      "44571\n",
      "286450\n",
      "306224\n",
      "312563\n",
      "309766\n",
      "346769\n",
      "232196\n",
      "247941\n",
      "27805\n",
      "27817\n",
      "70935\n",
      "74269\n",
      "73283\n",
      "245562\n",
      "253121\n",
      "307038\n",
      "337891\n",
      "332306\n",
      "332312\n",
      "356270\n",
      "326241\n",
      "340444\n",
      "240029\n",
      "251269\n",
      "285728\n",
      "33210\n",
      "321665\n",
      "56758\n",
      "256393\n",
      "298493\n",
      "255187\n",
      "257874\n",
      "282465\n",
      "285086\n",
      "301924\n",
      "307678\n",
      "129531\n",
      "73792\n",
      "254131\n",
      "260997\n",
      "340991\n",
      "275741\n",
      "262731\n",
      "274765\n",
      "294559\n",
      "273911\n",
      "306411\n",
      "266968\n",
      "266972\n",
      "300780\n",
      "312063\n",
      "336297\n",
      "285753\n"
     ]
    }
   ],
   "source": [
    "for ids in conv[\"PET_ID\"]:\n",
    "    print(ids)"
   ]
  },
  {
   "cell_type": "code",
   "execution_count": null,
   "id": "efd73d5c-5da2-42fd-9eb5-5dec6b398c34",
   "metadata": {},
   "outputs": [],
   "source": [
    "Path(\"MNI152_T1_1mm_brain.nii.gz\").as_posix()"
   ]
  },
  {
   "cell_type": "code",
   "execution_count": null,
   "id": "b7a3d263-7d5b-4ebf-92f5-d7ef53ec419f",
   "metadata": {},
   "outputs": [],
   "source": [
    "root='./data/new_converts/ADNI'\n",
    "convlist = [ item for item in os.listdir(root) if os.path.isdir(os.path.join(root, item)) ]\n"
   ]
  },
  {
   "cell_type": "code",
   "execution_count": null,
   "id": "b6d3d2e4-6fc2-4032-9148-d8261797ee59",
   "metadata": {},
   "outputs": [],
   "source": [
    "root='./data/new_nonconverts/ADNI'\n",
    "nonconvlist = [ item for item in os.listdir(root) if os.path.isdir(os.path.join(root, item)) ]\n"
   ]
  },
  {
   "cell_type": "code",
   "execution_count": null,
   "id": "6fcac8ed-1cd5-45ea-b2e5-e10bbae807b7",
   "metadata": {},
   "outputs": [],
   "source": [
    "len(set(convlist) & set(nonconvlist))"
   ]
  },
  {
   "cell_type": "code",
   "execution_count": null,
   "id": "68ab3068-2f30-49d9-a1ff-3b9076d7c63a",
   "metadata": {},
   "outputs": [],
   "source": [
    "root='./data/new_alzheimers/ADNI'\n",
    "alzlist = [ item for item in os.listdir(root) if os.path.isdir(os.path.join(root, item)) ]\n"
   ]
  },
  {
   "cell_type": "code",
   "execution_count": null,
   "id": "c322e017-c052-415d-b2c5-34df1f3b91ae",
   "metadata": {},
   "outputs": [],
   "source": [
    "root='./data/new_control/ADNI'\n",
    "controllist = [ item for item in os.listdir(root) if os.path.isdir(os.path.join(root, item)) ]\n"
   ]
  },
  {
   "cell_type": "code",
   "execution_count": null,
   "id": "0d05dcd1-0a52-43fc-9e35-a12f9e72588d",
   "metadata": {},
   "outputs": [],
   "source": [
    "set(controllist) & set(convlist)"
   ]
  },
  {
   "cell_type": "code",
   "execution_count": null,
   "id": "3ba81a5a-8b62-40b5-9597-a73c3e059e21",
   "metadata": {},
   "outputs": [],
   "source": [
    "registered"
   ]
  },
  {
   "cell_type": "code",
   "execution_count": null,
   "id": "46efd314-31f9-4452-993e-340c6e344299",
   "metadata": {},
   "outputs": [],
   "source": []
  }
 ],
 "metadata": {
  "kernelspec": {
   "display_name": "Python 3",
   "language": "python",
   "name": "python3"
  },
  "language_info": {
   "codemirror_mode": {
    "name": "ipython",
    "version": 3
   },
   "file_extension": ".py",
   "mimetype": "text/x-python",
   "name": "python",
   "nbconvert_exporter": "python",
   "pygments_lexer": "ipython3",
   "version": "3.6.9"
  }
 },
 "nbformat": 4,
 "nbformat_minor": 5
}
